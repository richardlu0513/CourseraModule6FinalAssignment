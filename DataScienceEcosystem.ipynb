{
 "cells": [
  {
   "cell_type": "markdown",
   "id": "db8f6978-12b0-49b4-8677-a83bd3137e2f",
   "metadata": {},
   "source": [
    "# Data Science Tools and Ecosystem"
   ]
  },
  {
   "cell_type": "markdown",
   "id": "de88f8eb-1d33-44fa-a963-1f072d10b22d",
   "metadata": {},
   "source": [
    "## In this notebook, Data Science Tools and Ecosystem are summarized"
   ]
  },
  {
   "cell_type": "markdown",
   "id": "a2208159-c42a-4daf-a4bb-32b3d5834818",
   "metadata": {},
   "source": [
    "**Objectives:**\n",
    "* popular languages\n",
    "* commonly used libraries\n",
    "* arithmetic expressions"
   ]
  },
  {
   "cell_type": "markdown",
   "id": "76e1cbfa-630f-40a8-b87c-f688414df052",
   "metadata": {},
   "source": [
    "### Some of the popular languages that Data Scientists use are:\n",
    "1. python\n",
    "2. R\n",
    "3. Javascript"
   ]
  },
  {
   "cell_type": "markdown",
   "id": "c25f7e38-3067-4220-9da5-d4cd08a35e34",
   "metadata": {},
   "source": [
    "### Some of the commonly used libraries used by Data Scientists include:\n",
    "1. Pandas\n",
    "2. NumPy\n",
    "3. TensorFlow"
   ]
  },
  {
   "cell_type": "markdown",
   "id": "0592c11d-3803-48cd-ace0-e7a6521cb03d",
   "metadata": {},
   "source": [
    "Data Science Tools |\n",
    "------|\n",
    "Matplotlib|\n",
    "Apache Spark|\n",
    "Hadoop|"
   ]
  },
  {
   "cell_type": "markdown",
   "id": "71f238a2-afd0-412d-b730-e9d79fde32d3",
   "metadata": {},
   "source": [
    "### Below are a few examples of evaluating arithmetic expressions in Python"
   ]
  },
  {
   "cell_type": "code",
   "execution_count": 3,
   "id": "0574542f-f688-460e-9d90-42e2b74f25e5",
   "metadata": {},
   "outputs": [
    {
     "data": {
      "text/plain": [
       "17"
      ]
     },
     "execution_count": 3,
     "metadata": {},
     "output_type": "execute_result"
    }
   ],
   "source": [
    "(3*4)+5\n",
    "# This a simple arithmetic expression to mutiply then add integers"
   ]
  },
  {
   "cell_type": "code",
   "execution_count": 9,
   "id": "6911d335-6950-4d37-ae35-9ce0a7a767a9",
   "metadata": {},
   "outputs": [
    {
     "data": {
      "text/plain": [
       "3.3333333333333335"
      ]
     },
     "execution_count": 9,
     "metadata": {},
     "output_type": "execute_result"
    }
   ],
   "source": [
    "200/60\n",
    "# This will convert 200 minutes to hours by dividing by 60"
   ]
  },
  {
   "cell_type": "markdown",
   "id": "feda00d4-897b-4521-a017-44ff97458b01",
   "metadata": {},
   "source": [
    "## Author: \n",
    "Guangyuan Lu"
   ]
  },
  {
   "cell_type": "code",
   "execution_count": null,
   "id": "5c0ea2e6-6b19-4b28-91b9-342e85e13725",
   "metadata": {},
   "outputs": [],
   "source": []
  }
 ],
 "metadata": {
  "kernelspec": {
   "display_name": "Python 3 (ipykernel)",
   "language": "python",
   "name": "python3"
  },
  "language_info": {
   "codemirror_mode": {
    "name": "ipython",
    "version": 3
   },
   "file_extension": ".py",
   "mimetype": "text/x-python",
   "name": "python",
   "nbconvert_exporter": "python",
   "pygments_lexer": "ipython3",
   "version": "3.12.8"
  }
 },
 "nbformat": 4,
 "nbformat_minor": 5
}
